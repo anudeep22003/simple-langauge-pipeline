{
 "cells": [
  {
   "cell_type": "code",
   "execution_count": 1,
   "metadata": {},
   "outputs": [
    {
     "name": "stdout",
     "output_type": "stream",
     "text": [
      "hello world\n"
     ]
    }
   ],
   "source": [
    "import spacy \n",
    "print(\"hello world\")"
   ]
  }
 ],
 "metadata": {
  "interpreter": {
   "hash": "36f3ce83eabae78742870cb69b61fb9571a4488c9b249733eb3f3dec08ffade9"
  },
  "kernelspec": {
   "display_name": "Python 3.9.7 64-bit ('pipeline_v1': conda)",
   "language": "python",
   "name": "python3"
  },
  "language_info": {
   "codemirror_mode": {
    "name": "ipython",
    "version": 3
   },
   "file_extension": ".py",
   "mimetype": "text/x-python",
   "name": "python",
   "nbconvert_exporter": "python",
   "pygments_lexer": "ipython3",
   "version": "3.9.7"
  },
  "orig_nbformat": 4
 },
 "nbformat": 4,
 "nbformat_minor": 2
}
