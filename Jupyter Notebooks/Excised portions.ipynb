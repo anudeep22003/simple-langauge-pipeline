{
 "cells": [
  {
   "cell_type": "code",
   "execution_count": null,
   "id": "e8ef5b1b-9b10-4e7a-b83c-55898ad11776",
   "metadata": {},
   "outputs": [],
   "source": [
    "def keyword_extractor(self):\n",
    "        curr_thought = self.manager.input\n",
    "        doc = nlp(curr_thought.d.description)\n",
    "        print([t for t in doc])\n",
    "        print([t for t in doc if not t.is_stop])\n",
    "        print([(t, t.tag_) for t in doc])\n",
    "        print(\"-\"*150)\n",
    "        print([t for t in doc if 'NN' in t.tag_], end = \"all nouns\")\n",
    "        print(\"-\"*150)\n",
    "        print([t for t in doc if t.tag_ == 'NNP'], end = \"proper nouns\")\n",
    "        print(\"-\"*150)\n",
    "        print([(e.text, e.label_) for e in doc.ents])\n",
    "        print(\"-\"*150)\n",
    "        \n",
    "        keyword = []\n",
    "    \n",
    "        for e in doc.ents:\n",
    "            keyword.append((e.text, e.label_))\n",
    "        \n",
    "        string = \" \".join([t for (t,_) in keyword])\n",
    "        print(string)\n",
    "        \n",
    "        proper_nouns = [t.text for t in doc if t.tag_ == 'NNP']\n",
    "        \n",
    "        for pn in proper_nouns:\n",
    "            if pn in string:\n",
    "                pass\n",
    "            else:\n",
    "                keyword.append((pn, 'NNP'))\n",
    "        \n",
    "        print(\"-\"*150)\n",
    "        print(\"-\"*150)\n",
    "        print(keyword)"
   ]
  }
 ],
 "metadata": {
  "kernelspec": {
   "display_name": "Python 3 (ipykernel)",
   "language": "python",
   "name": "python3"
  },
  "language_info": {
   "codemirror_mode": {
    "name": "ipython",
    "version": 3
   },
   "file_extension": ".py",
   "mimetype": "text/x-python",
   "name": "python",
   "nbconvert_exporter": "python",
   "pygments_lexer": "ipython3",
   "version": "3.9.7"
  }
 },
 "nbformat": 4,
 "nbformat_minor": 5
}
