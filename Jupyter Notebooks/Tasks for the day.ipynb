{
 "cells": [
  {
   "cell_type": "code",
   "execution_count": 1,
   "id": "32bfae22-a4ed-41a2-8606-371ae714d8a8",
   "metadata": {},
   "outputs": [],
   "source": [
    "import datetime"
   ]
  },
  {
   "cell_type": "code",
   "execution_count": 3,
   "id": "0f35a23c-d66d-451f-96eb-7eb3a3cccdd0",
   "metadata": {},
   "outputs": [
    {
     "data": {
      "text/plain": [
       "datetime.datetime(2021, 11, 29, 12, 4, 46, 894219)"
      ]
     },
     "execution_count": 3,
     "metadata": {},
     "output_type": "execute_result"
    }
   ],
   "source": [
    "datetime.datetime.now()"
   ]
  },
  {
   "cell_type": "markdown",
   "id": "558d9f2b-9cc1-4da7-8cc2-92238b7373b6",
   "metadata": {},
   "source": [
    "### Tasks for today Nov 29\n",
    "\n",
    "- Keyword extractor agent\n",
    "- named entity extractor\n",
    "- Blockbuilder agent that allows the extracted keywords to be connected to the main thoughtblock"
   ]
  },
  {
   "cell_type": "code",
   "execution_count": null,
   "id": "2e04f51a-c04d-427f-a934-ce43db9b2b9c",
   "metadata": {},
   "outputs": [],
   "source": [
    "- Look for compound arcs to identify keywords"
   ]
  }
 ],
 "metadata": {
  "kernelspec": {
   "display_name": "Python 3 (ipykernel)",
   "language": "python",
   "name": "python3"
  },
  "language_info": {
   "codemirror_mode": {
    "name": "ipython",
    "version": 3
   },
   "file_extension": ".py",
   "mimetype": "text/x-python",
   "name": "python",
   "nbconvert_exporter": "python",
   "pygments_lexer": "ipython3",
   "version": "3.9.7"
  }
 },
 "nbformat": 4,
 "nbformat_minor": 5
}
