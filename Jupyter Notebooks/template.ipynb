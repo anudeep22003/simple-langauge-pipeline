{
 "cells": [
  {
   "cell_type": "code",
   "execution_count": null,
   "id": "db5c04d0-886d-462a-908e-a39461209117",
   "metadata": {},
   "outputs": [],
   "source": [
    "class Thought:\n",
    "    \n",
    "    \"\"\"\n",
    "    Would contain the payload and the natural language description of the content\n",
    "    \n",
    "    parameters:\n",
    "    payload: the media that is the source of the new thought \n",
    "    description: what the user finds useful - a deconstruction of the associations made by the brain\n",
    "    \"\"\"\n",
    "    \n",
    "    pass"
   ]
  },
  {
   "cell_type": "code",
   "execution_count": null,
   "id": "38fbd392-ca9d-4ecb-b346-f9e5c83ce1db",
   "metadata": {},
   "outputs": [],
   "source": [
    "class Agent:\n",
    "    \n",
    "    \"\"\"\n",
    "    Acts on a thought block in some capacity\n",
    "    Takes as an input a single (or multiple) thought blocks\n",
    "    and outputs its own block enhancer\n",
    "    \n",
    "    parameters:\n",
    "    input: the thought that the work is being done on \n",
    "    include chain: flag, only consider the base block or the chain as well \n",
    "    error: the prediction error (or processing error, how confident is the system in the act)\n",
    "    \"\"\"\n",
    "    \n",
    "    def __init__(self, thought):\n",
    "        self.input = thought\n",
    "        self.error = None       # generates the error in its output that can then be cascaded upward or downward for chained skills \n",
    "    \n",
    "    pass"
   ]
  },
  {
   "cell_type": "code",
   "execution_count": null,
   "id": "ac4d5f97-2b1b-418d-9801-cfb65adf4198",
   "metadata": {},
   "outputs": [],
   "source": [
    "class BlockBuilder:\n",
    "    \n",
    "    \"\"\"\n",
    "    takes the output of the Agent who has processed a block and attaches it to the original block\n",
    "    \n",
    "    Analogy: \n",
    "    As a signal passes up layers in the brain, at each stage the signal becomes more relevant, like adding detail\n",
    "    When a group of photons are processed by the receptors in the eye, they make their way to the occipital lobe but along the way \n",
    "    they first see the edges, then the edges are connected together to form a bounding box, then object recognition happens \n",
    "    and then so on before an entire scene is comprehended. This happens so quickly that we barely notice it, \n",
    "    but at each layer information about the signal is added, enhancing the signal. \n",
    "    \n",
    "    parameters:\n",
    "    output: the processed content to attach to the thought\n",
    "    thought: the OG thought block to attach the new derived information to\n",
    "    error: accuracy of the prediction (especially useful in compound predictions)\n",
    "    \n",
    "    \"\"\"\n",
    "    \n",
    "    pass"
   ]
  },
  {
   "cell_type": "code",
   "execution_count": null,
   "id": "eeb770c5-b00d-4cbc-a1ce-481a5ff628a5",
   "metadata": {},
   "outputs": [],
   "source": [
    "class AgentExchange:\n",
    "    \n",
    "    \"\"\"\n",
    "    Was thinking this would be a good place to create an exchange, so that if one agent needs to call another, it can happen from here\n",
    "    \n",
    "    Would agents need localized such multiplexors?\n",
    "    \"\"\"\n",
    "    \n",
    "    pass"
   ]
  },
  {
   "cell_type": "code",
   "execution_count": null,
   "id": "2abca677-c87d-4827-8499-2c33b0d56e5c",
   "metadata": {},
   "outputs": [],
   "source": [
    "class AgentManager:     # alt name: class AgentSocietyManager --> to manage the society of agents\n",
    "    \"\"\"\n",
    "    This would manage the agent and make sure it is not doing anythig spurious\n",
    "    Also kind of like management of agents, which to keep active, which to kill \n",
    "    and which to remember. \n",
    "    \n",
    "    Can also act as a gate keeper. Should be inherited by the AgentChainer because \n",
    "    there would be a fair bit of management involved in chaining two agents\n",
    "    \"\"\"\n",
    "    \n",
    "    pass"
   ]
  },
  {
   "cell_type": "code",
   "execution_count": null,
   "id": "f2fca53d-9482-4de4-b9f1-a28a3d373f6f",
   "metadata": {},
   "outputs": [],
   "source": [
    "class AgentChainer(AgentManager):\n",
    "    \n",
    "    \"\"\"\n",
    "    Need to come up with a better name, \n",
    "    but essentially if an agent needs to chain the output of one to the input of the next, this class would be used \n",
    "    Its also the equivalent of an \"association\" of agents - can we reflect that in the name\n",
    "    Compound agent / compound skills / agent recipe\n",
    "    \n",
    "    Questions:\n",
    "    - do we need to remember the order of the chain \n",
    "        i.e. would the same agents chained differently be a different agent chain or the same, with a change in the \"order\" parameter?\n",
    "        \n",
    "    Maybe all that this skills needs to do is output the addresses of the agents in the AgentExchange --> which is kinda like the hypothalmus \n",
    "    that remembers a map of the skills or k-line agents\n",
    "    \"\"\"\n",
    "    \n",
    "    pass"
   ]
  },
  {
   "cell_type": "code",
   "execution_count": null,
   "id": "8f3259b4-aba0-44a6-89cf-d35d3199c5d1",
   "metadata": {},
   "outputs": [],
   "source": [
    "class ThinkingEnvironment:\n",
    "    \n",
    "    \"\"\"\n",
    "    This is the space where the thinking will actually happen\n",
    "    When coming up with this, I want evisionign this to be the place where the calculations and the interactions of agents and thought blocks would happen\n",
    "    \n",
    "    Kind of like the environment for the sex-linked genes on chromosome simulation that you did\n",
    "    \"\"\"\n",
    "    \n",
    "    pass"
   ]
  },
  {
   "cell_type": "code",
   "execution_count": null,
   "id": "77399267-b7ca-4195-a37e-8e4e60641d80",
   "metadata": {},
   "outputs": [],
   "source": [
    "class Learn:\n",
    "    \n",
    "    \"\"\"\n",
    "    Created this to represent the learning of agents, because agents will keep evolving over time.\n",
    "    \n",
    "    Potentially could take as an input an event, and an associated agent (or agent chain) that can adjust its behavior based on the truth event \n",
    "    (the universe acting as it does with no concern for your algorithms or models). Use this event to improve the agent. \n",
    "    \"\"\"\n",
    "    \n",
    "    pass"
   ]
  }
 ],
 "metadata": {
  "kernelspec": {
   "display_name": "Python 3 (ipykernel)",
   "language": "python",
   "name": "python3"
  },
  "language_info": {
   "codemirror_mode": {
    "name": "ipython",
    "version": 3
   },
   "file_extension": ".py",
   "mimetype": "text/x-python",
   "name": "python",
   "nbconvert_exporter": "python",
   "pygments_lexer": "ipython3",
   "version": "3.9.7"
  }
 },
 "nbformat": 4,
 "nbformat_minor": 5
}
